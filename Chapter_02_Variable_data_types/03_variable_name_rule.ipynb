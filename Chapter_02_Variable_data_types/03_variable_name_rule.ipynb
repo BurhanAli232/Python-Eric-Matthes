{
 "cells": [
  {
   "cell_type": "markdown",
   "id": "21051b06",
   "metadata": {},
   "source": [
    "##### we need to follow certain rules when naming variables in Python. Here are some of the key rules:\n",
    "##### But before we run two examples of string\n",
    "\n",
    "\n"
   ]
  },
  {
   "cell_type": "code",
   "execution_count": 1,
   "id": "0ace0b23",
   "metadata": {},
   "outputs": [
    {
     "name": "stdout",
     "output_type": "stream",
     "text": [
      "Welcome to python course with Burhan also ERIC MATTHEWS\n"
     ]
    }
   ],
   "source": [
    "print(\"Welcome to python course with Burhan also ERIC MATTHEWS\")"
   ]
  },
  {
   "cell_type": "code",
   "execution_count": 2,
   "id": "f6d94af0",
   "metadata": {},
   "outputs": [
    {
     "name": "stdout",
     "output_type": "stream",
     "text": [
      "Python course with Burhan also ERIC MATTHEWS\n"
     ]
    }
   ],
   "source": [
    "# Now we run the line with variable\n",
    "course=\"Python course with Burhan also ERIC MATTHEWS\"\n",
    "print(course)"
   ]
  },
  {
   "cell_type": "markdown",
   "id": "5f47e628",
   "metadata": {},
   "source": [
    "## Now we will see the variable naming rules\n",
    "### 1. Variable can contain only letters(A-Z | a-z), numbers(0-9), and underscores (_).Example:\n",
    "        - student_name=\"Burhan_Zulfiqar_123\"\n",
    "        - student-name=\"Burhan-Zulfiqar-123\" | This will give error because of hyphen(-)\n",
    "        - student_name_1=\"Burhan_Zulfiqar_123\"\n",
    "        - studentname$=\"BurhanZulfiqar123\" | This will give error because of dollar sign($)\n",
    "### 2. Spaces are not allowed in variable name but underscores(_) can be used to separate words.Example:\n",
    "        - student_name=\"Burhan_Zulfiqar\"\n",
    "        - student name=\"Burhan Zulfiqar\" | This will give error because of space\n",
    "### 3. Avoid using Python reserved words or keywords as variable names.Example:\n",
    "        - class=\"Math\" | This will give error because class is a reserved word\n",
    "        - def=\"my_function\" | This will give error because def is a reserved word\n",
    "        - student_class=\"Math\" | This is correct\n",
    "        - function_name=\"my_function\" | This is correct\n",
    "### 4. Varable name should be descriptive and meaningful.Example:\n",
    "        - x=10 | This is not descriptive\n",
    "        - student_age=20 | This is descriptive\n",
    "### 5. Becareful with case sensitivity. Variable names are case-sensitive.Example:\n",
    "        - StudentName=\"Burhan\" | This is different from studentname\n",
    "        - studentname=\"Eric\" | This is different from StudentName\n",
    "### 6. Variable name should not start with a number.Example:\n",
    "        - 1st_student=\"Burhan\" | This will give error because it starts with a number\n",
    "        - student1=\"Eric\" | This is correct"
   ]
  },
  {
   "cell_type": "markdown",
   "id": "bd7462b8",
   "metadata": {},
   "source": [
    "##### By following these rules, you can create valid and meaningful variable names in Python.\n"
   ]
  },
  {
   "cell_type": "code",
   "execution_count": 3,
   "id": "137ae654",
   "metadata": {},
   "outputs": [
    {
     "name": "stdout",
     "output_type": "stream",
     "text": [
      "Variable naming rules in Python\n"
     ]
    }
   ],
   "source": [
    "message=\"Variable naming rules in Python\"\n",
    "#print(mesage) | This will give error because of typo in variable name 'mesage' instead of 'message'\n",
    "print(message) # this will work fine"
   ]
  }
 ],
 "metadata": {
  "kernelspec": {
   "display_name": "fastapienv",
   "language": "python",
   "name": "python3"
  },
  "language_info": {
   "codemirror_mode": {
    "name": "ipython",
    "version": 3
   },
   "file_extension": ".py",
   "mimetype": "text/x-python",
   "name": "python",
   "nbconvert_exporter": "python",
   "pygments_lexer": "ipython3",
   "version": "3.10.18"
  }
 },
 "nbformat": 4,
 "nbformat_minor": 5
}
